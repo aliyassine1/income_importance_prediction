{
  "nbformat": 4,
  "nbformat_minor": 0,
  "metadata": {
    "kernelspec": {
      "name": "Python 3.7.9 64-bit ('ds_env': conda)",
      "display_name": "Python 3.7.9 64-bit ('ds_env': conda)",
      "metadata": {
        "interpreter": {
          "hash": "e3f89e38e3d8e3d3fe776acfd856c971c22ac48f387054296f9f15578af31c5c"
        }
      }
    },
    "language_info": {
      "codemirror_mode": {
        "name": "ipython",
        "version": 3
      },
      "file_extension": ".py",
      "mimetype": "text/x-python",
      "name": "python",
      "nbconvert_exporter": "python",
      "pygments_lexer": "ipython3",
      "version": "3.7.9-final"
    },
    "colab": {
      "name": "lab_assignment_1 (Ali Yassine).ipynb",
      "provenance": [],
      "collapsed_sections": [],
      "toc_visible": true
    }
  },
  "cells": [
    {
      "cell_type": "markdown",
      "metadata": {
        "id": "UmQ_O4vU9J-t"
      },
      "source": [
        "*Please include your name in the following statement as indication of code of honor agreement:*\n",
        "\n",
        "**“I, Ali Mohamad  Yassine, promise to conduct this work on my own without external help and without providing any help to others.”**"
      ]
    },
    {
      "cell_type": "code",
      "metadata": {
        "id": "a9kBizS99J-u"
      },
      "source": [
        "import numpy as np\n",
        "import pandas as pd\n",
        "import matplotlib.pyplot as plt\n",
        "import seaborn as sns"
      ],
      "execution_count": 4,
      "outputs": []
    },
    {
      "cell_type": "markdown",
      "metadata": {
        "id": "1vXdcGWV9J-x"
      },
      "source": [
        "# The Movies Dataset\n",
        "\n",
        "In this dataset, each sample is a movie about which the following attributes are collected.\n",
        "- **title**: Title of movie\n",
        "- **title_type**: Type of movie (Documentary, Feature Film, TV Movie)\n",
        "- **genre**: Genre of movie (Action & Adventure, Comedy, Documentary, Drama, Horror, Mystery & Suspense, Other)\n",
        "- **runtime**: Runtime of movie (in minutes)\n",
        "- **mpaa_rating**: MPAA rating of the movie (G, PG, PG-13, R, Unrated)\n",
        "- **studio**: Studio that produced the movie\n",
        "- **thtr_rel_year**: Year the movie is released in theaters\n",
        "- **thtr_rel_month**: Month the movie is released in theaters\n",
        "- **thtr_rel_day**: Day of the month the movie is released in theaters\n",
        "- **dvd_rel_year**: Year the movie is released on DVD\n",
        "- **dvd_rel_month**: Month the movie is released on DVD\n",
        "- **dvd_rel_day**: Day of the month the movie is released on DVD\n",
        "- **imdb_rating**: Rating on IMDB\n",
        "- **imdb_num_votes**: Number of votes on IMDB\n",
        "- **critics_rating**: Categorical variable for critics rating on Rotten Tomatoes (Certified Fresh, Fresh, Rotten)\n",
        "- **critics_score**: Critics score on Rotten Tomatoes\n",
        "- **audience_rating**: Categorical variable for audience rating on Rotten Tomatoes (Spilled, Upright)\n",
        "- **audience_score**: Audience score on Rotten Tomatoes\n",
        "- **best_pic_nom**: Whether or not the movie was nominated for a best picture Oscar (no, yes)\n",
        "- **best_pic_win**: Whether or not the movie won a best picture Oscar (no, yes)\n",
        "- **best_actor_win**: Whether or not one of the main actors in the movie ever won an Oscar (no, yes) – this is not necessarily whether the actor won an Oscar for their role in the given movie\n",
        "- **best_actress_win**: Whether or not one of the main actresses in the movie ever won an Oscar (no, yes) – this is not necessarily whether the actresses won an Oscar for their role in the given movie\n",
        "- **best_dir_win**: Whether or not the director of the movie ever won an Oscar (no, yes) – this is not necessarily whether the director won an Oscar for the given movie\n",
        "- **top200_box**: Whether or not the movie is in the Top 200 Box Office list on BoxOfficeMojo (no, yes)\n",
        "- **director**: Director of the movie\n",
        "- **actor1**: First main actor/actress in the abridged cast of the movie\n",
        "- **actor2**: Second main actor/actress in the abridged cast of the movie\n",
        "- **actor3**: Third main actor/actress in the abridged cast of the movie\n",
        "- **actor4**: Fourth main actor/actress in the abridged cast of the movie\n",
        "- **actor5**: Fifth main actor/actress in the abridged cast of the movie\n",
        "- **imdb_url**: Link to IMDB page for the movie\n",
        "- **rt_url**: Link to Rotten Tomatoes page for the movie\n",
        "\n",
        "Let's start by loading the data and immediatly dropping columns that are obviously irrelevant. \"imdb_url\" and \"rt_url\" are just web links to the movie's IMDB and Rotten Tomatoes pages. Also, the year of release would not affect the score unless the movie industry was greatly impacted during that year (like 2020), however this dataset does not include 2020 movies so we're dropping this information. Same argument can be made for day of release. We will only keep month of release because it can be argued that summertime or holiday seasons can affect movie viewing activity.\n",
        "\n",
        "*1a) Load the data into a Pandas DataFrame and drop the following columns:*\n",
        "- *imdb_url*\n",
        "- *rt_url*\n",
        "- *thtr_rel_year*\n",
        "- *thtr_rel_day*\n",
        "- *dvd_rel_year*\n",
        "- *dvd_rel_day*"
      ]
    },
    {
      "cell_type": "code",
      "metadata": {
        "id": "op7YUdxd9J-y",
        "outputId": "2f21ce0e-9a74-4e08-a6ee-06478d11ab84",
        "colab": {
          "base_uri": "https://localhost:8080/",
          "height": 374
        }
      },
      "source": [
        "#read the data\n",
        "df = pd.read_csv('movies.csv', index_col='title')\n",
        "#remove the unwanted columns\n",
        "df.drop(['imdb_url','rt_url','thtr_rel_year','thtr_rel_day','dvd_rel_year','dvd_rel_day'], axis=1, inplace=True)\n",
        "df.head()"
      ],
      "execution_count": 108,
      "outputs": [
        {
          "output_type": "execute_result",
          "data": {
            "text/html": [
              "<div>\n",
              "<style scoped>\n",
              "    .dataframe tbody tr th:only-of-type {\n",
              "        vertical-align: middle;\n",
              "    }\n",
              "\n",
              "    .dataframe tbody tr th {\n",
              "        vertical-align: top;\n",
              "    }\n",
              "\n",
              "    .dataframe thead th {\n",
              "        text-align: right;\n",
              "    }\n",
              "</style>\n",
              "<table border=\"1\" class=\"dataframe\">\n",
              "  <thead>\n",
              "    <tr style=\"text-align: right;\">\n",
              "      <th></th>\n",
              "      <th>title_type</th>\n",
              "      <th>genre</th>\n",
              "      <th>runtime</th>\n",
              "      <th>mpaa_rating</th>\n",
              "      <th>studio</th>\n",
              "      <th>thtr_rel_month</th>\n",
              "      <th>dvd_rel_month</th>\n",
              "      <th>imdb_rating</th>\n",
              "      <th>imdb_num_votes</th>\n",
              "      <th>critics_rating</th>\n",
              "      <th>critics_score</th>\n",
              "      <th>audience_rating</th>\n",
              "      <th>audience_score</th>\n",
              "      <th>best_pic_nom</th>\n",
              "      <th>best_pic_win</th>\n",
              "      <th>best_actor_win</th>\n",
              "      <th>best_actress_win</th>\n",
              "      <th>best_dir_win</th>\n",
              "      <th>top200_box</th>\n",
              "      <th>director</th>\n",
              "      <th>actor1</th>\n",
              "      <th>actor2</th>\n",
              "      <th>actor3</th>\n",
              "      <th>actor4</th>\n",
              "      <th>actor5</th>\n",
              "    </tr>\n",
              "    <tr>\n",
              "      <th>title</th>\n",
              "      <th></th>\n",
              "      <th></th>\n",
              "      <th></th>\n",
              "      <th></th>\n",
              "      <th></th>\n",
              "      <th></th>\n",
              "      <th></th>\n",
              "      <th></th>\n",
              "      <th></th>\n",
              "      <th></th>\n",
              "      <th></th>\n",
              "      <th></th>\n",
              "      <th></th>\n",
              "      <th></th>\n",
              "      <th></th>\n",
              "      <th></th>\n",
              "      <th></th>\n",
              "      <th></th>\n",
              "      <th></th>\n",
              "      <th></th>\n",
              "      <th></th>\n",
              "      <th></th>\n",
              "      <th></th>\n",
              "      <th></th>\n",
              "      <th></th>\n",
              "    </tr>\n",
              "  </thead>\n",
              "  <tbody>\n",
              "    <tr>\n",
              "      <th>Filly Brown</th>\n",
              "      <td>Feature Film</td>\n",
              "      <td>Drama</td>\n",
              "      <td>80.0</td>\n",
              "      <td>R</td>\n",
              "      <td>Indomina Media Inc.</td>\n",
              "      <td>4</td>\n",
              "      <td>7.0</td>\n",
              "      <td>5.5</td>\n",
              "      <td>899</td>\n",
              "      <td>Rotten</td>\n",
              "      <td>45</td>\n",
              "      <td>Upright</td>\n",
              "      <td>73</td>\n",
              "      <td>no</td>\n",
              "      <td>no</td>\n",
              "      <td>no</td>\n",
              "      <td>no</td>\n",
              "      <td>no</td>\n",
              "      <td>no</td>\n",
              "      <td>Michael D. Olmos</td>\n",
              "      <td>Gina Rodriguez</td>\n",
              "      <td>Jenni Rivera</td>\n",
              "      <td>Lou Diamond Phillips</td>\n",
              "      <td>Emilio Rivera</td>\n",
              "      <td>Joseph Julian Soria</td>\n",
              "    </tr>\n",
              "    <tr>\n",
              "      <th>The Dish</th>\n",
              "      <td>Feature Film</td>\n",
              "      <td>Drama</td>\n",
              "      <td>101.0</td>\n",
              "      <td>PG-13</td>\n",
              "      <td>Warner Bros. Pictures</td>\n",
              "      <td>3</td>\n",
              "      <td>8.0</td>\n",
              "      <td>7.3</td>\n",
              "      <td>12285</td>\n",
              "      <td>Certified Fresh</td>\n",
              "      <td>96</td>\n",
              "      <td>Upright</td>\n",
              "      <td>81</td>\n",
              "      <td>no</td>\n",
              "      <td>no</td>\n",
              "      <td>no</td>\n",
              "      <td>no</td>\n",
              "      <td>no</td>\n",
              "      <td>no</td>\n",
              "      <td>Rob Sitch</td>\n",
              "      <td>Sam Neill</td>\n",
              "      <td>Kevin Harrington</td>\n",
              "      <td>Patrick Warburton</td>\n",
              "      <td>Tom Long</td>\n",
              "      <td>Genevieve Mooy</td>\n",
              "    </tr>\n",
              "    <tr>\n",
              "      <th>Waiting for Guffman</th>\n",
              "      <td>Feature Film</td>\n",
              "      <td>Comedy</td>\n",
              "      <td>84.0</td>\n",
              "      <td>R</td>\n",
              "      <td>Sony Pictures Classics</td>\n",
              "      <td>8</td>\n",
              "      <td>8.0</td>\n",
              "      <td>7.6</td>\n",
              "      <td>22381</td>\n",
              "      <td>Certified Fresh</td>\n",
              "      <td>91</td>\n",
              "      <td>Upright</td>\n",
              "      <td>91</td>\n",
              "      <td>no</td>\n",
              "      <td>no</td>\n",
              "      <td>no</td>\n",
              "      <td>no</td>\n",
              "      <td>no</td>\n",
              "      <td>no</td>\n",
              "      <td>Christopher Guest</td>\n",
              "      <td>Christopher Guest</td>\n",
              "      <td>Catherine O'Hara</td>\n",
              "      <td>Parker Posey</td>\n",
              "      <td>Eugene Levy</td>\n",
              "      <td>Bob Balaban</td>\n",
              "    </tr>\n",
              "    <tr>\n",
              "      <th>The Age of Innocence</th>\n",
              "      <td>Feature Film</td>\n",
              "      <td>Drama</td>\n",
              "      <td>139.0</td>\n",
              "      <td>PG</td>\n",
              "      <td>Columbia Pictures</td>\n",
              "      <td>10</td>\n",
              "      <td>11.0</td>\n",
              "      <td>7.2</td>\n",
              "      <td>35096</td>\n",
              "      <td>Certified Fresh</td>\n",
              "      <td>80</td>\n",
              "      <td>Upright</td>\n",
              "      <td>76</td>\n",
              "      <td>no</td>\n",
              "      <td>no</td>\n",
              "      <td>yes</td>\n",
              "      <td>no</td>\n",
              "      <td>yes</td>\n",
              "      <td>no</td>\n",
              "      <td>Martin Scorsese</td>\n",
              "      <td>Daniel Day-Lewis</td>\n",
              "      <td>Michelle Pfeiffer</td>\n",
              "      <td>Winona Ryder</td>\n",
              "      <td>Richard E. Grant</td>\n",
              "      <td>Alec McCowen</td>\n",
              "    </tr>\n",
              "    <tr>\n",
              "      <th>Malevolence</th>\n",
              "      <td>Feature Film</td>\n",
              "      <td>Horror</td>\n",
              "      <td>90.0</td>\n",
              "      <td>R</td>\n",
              "      <td>Anchor Bay Entertainment</td>\n",
              "      <td>9</td>\n",
              "      <td>4.0</td>\n",
              "      <td>5.1</td>\n",
              "      <td>2386</td>\n",
              "      <td>Rotten</td>\n",
              "      <td>33</td>\n",
              "      <td>Spilled</td>\n",
              "      <td>27</td>\n",
              "      <td>no</td>\n",
              "      <td>no</td>\n",
              "      <td>no</td>\n",
              "      <td>no</td>\n",
              "      <td>no</td>\n",
              "      <td>no</td>\n",
              "      <td>Stevan Mena</td>\n",
              "      <td>Samantha Dark</td>\n",
              "      <td>R. Brandon Johnson</td>\n",
              "      <td>Brandon Johnson</td>\n",
              "      <td>Heather Magee</td>\n",
              "      <td>Richard Glover</td>\n",
              "    </tr>\n",
              "  </tbody>\n",
              "</table>\n",
              "</div>"
            ],
            "text/plain": [
              "                        title_type  ...               actor5\n",
              "title                               ...                     \n",
              "Filly Brown           Feature Film  ...  Joseph Julian Soria\n",
              "The Dish              Feature Film  ...       Genevieve Mooy\n",
              "Waiting for Guffman   Feature Film  ...          Bob Balaban\n",
              "The Age of Innocence  Feature Film  ...         Alec McCowen\n",
              "Malevolence           Feature Film  ...       Richard Glover\n",
              "\n",
              "[5 rows x 25 columns]"
            ]
          },
          "metadata": {
            "tags": []
          },
          "execution_count": 108
        }
      ]
    },
    {
      "cell_type": "markdown",
      "metadata": {
        "id": "VXdcID8q9J-0"
      },
      "source": [
        "*1b) Show the data type of each column in the dataset.*"
      ]
    },
    {
      "cell_type": "code",
      "metadata": {
        "tags": [],
        "id": "GM_DG11v9J-1",
        "outputId": "0cf371bb-2ea6-44d4-fe5f-f341c85ea00d",
        "colab": {
          "base_uri": "https://localhost:8080/",
          "height": 554
        }
      },
      "source": [
        "df.info()\n",
        "\n"
      ],
      "execution_count": 7,
      "outputs": [
        {
          "output_type": "stream",
          "text": [
            "<class 'pandas.core.frame.DataFrame'>\n",
            "Index: 651 entries, Filly Brown to LOL\n",
            "Data columns (total 25 columns):\n",
            " #   Column            Non-Null Count  Dtype  \n",
            "---  ------            --------------  -----  \n",
            " 0   title_type        651 non-null    object \n",
            " 1   genre             651 non-null    object \n",
            " 2   runtime           650 non-null    float64\n",
            " 3   mpaa_rating       651 non-null    object \n",
            " 4   studio            643 non-null    object \n",
            " 5   thtr_rel_month    651 non-null    int64  \n",
            " 6   dvd_rel_month     643 non-null    float64\n",
            " 7   imdb_rating       651 non-null    float64\n",
            " 8   imdb_num_votes    651 non-null    int64  \n",
            " 9   critics_rating    651 non-null    object \n",
            " 10  critics_score     651 non-null    int64  \n",
            " 11  audience_rating   651 non-null    object \n",
            " 12  audience_score    651 non-null    int64  \n",
            " 13  best_pic_nom      651 non-null    object \n",
            " 14  best_pic_win      651 non-null    object \n",
            " 15  best_actor_win    651 non-null    object \n",
            " 16  best_actress_win  651 non-null    object \n",
            " 17  best_dir_win      651 non-null    object \n",
            " 18  top200_box        651 non-null    object \n",
            " 19  director          649 non-null    object \n",
            " 20  actor1            649 non-null    object \n",
            " 21  actor2            644 non-null    object \n",
            " 22  actor3            642 non-null    object \n",
            " 23  actor4            638 non-null    object \n",
            " 24  actor5            636 non-null    object \n",
            "dtypes: float64(3), int64(4), object(18)\n",
            "memory usage: 132.2+ KB\n"
          ],
          "name": "stdout"
        }
      ]
    },
    {
      "cell_type": "markdown",
      "metadata": {
        "id": "4e03m7gc9J-3"
      },
      "source": [
        "*1c) Show the unique values for each categorical variable along with their counts.*"
      ]
    },
    {
      "cell_type": "code",
      "metadata": {
        "tags": [],
        "id": "xkVImGbX9J-4",
        "outputId": "2e2e2c9d-ae6d-4fd8-d23c-87715b796312",
        "colab": {
          "base_uri": "https://localhost:8080/",
          "height": 1000
        }
      },
      "source": [
        "for col in list(df.select_dtypes(include='object').columns):\n",
        "    print('------------------------------')\n",
        "    print(col + '\\n')\n",
        "    print(df[col].value_counts())"
      ],
      "execution_count": 109,
      "outputs": [
        {
          "output_type": "stream",
          "text": [
            "------------------------------\n",
            "title_type\n",
            "\n",
            "Feature Film    591\n",
            "Documentary      55\n",
            "TV Movie          5\n",
            "Name: title_type, dtype: int64\n",
            "------------------------------\n",
            "genre\n",
            "\n",
            "Drama                        305\n",
            "Comedy                        87\n",
            "Action & Adventure            65\n",
            "Mystery & Suspense            59\n",
            "Documentary                   52\n",
            "Horror                        23\n",
            "Other                         16\n",
            "Art House & International     14\n",
            "Musical & Performing Arts     12\n",
            "Animation                      9\n",
            "Science Fiction & Fantasy      9\n",
            "Name: genre, dtype: int64\n",
            "------------------------------\n",
            "mpaa_rating\n",
            "\n",
            "R          329\n",
            "PG-13      133\n",
            "PG         118\n",
            "Unrated     50\n",
            "G           19\n",
            "NC-17        2\n",
            "Name: mpaa_rating, dtype: int64\n",
            "------------------------------\n",
            "studio\n",
            "\n",
            "Paramount Pictures                  37\n",
            "Warner Bros. Pictures               30\n",
            "Sony Pictures Home Entertainment    27\n",
            "Universal Pictures                  23\n",
            "Warner Home Video                   19\n",
            "                                    ..\n",
            "Arenas Entertainment                 1\n",
            "Relativity Media                     1\n",
            "Saguenay Films                       1\n",
            "Liberation Entertainment             1\n",
            "Sony Pictures/Columbia               1\n",
            "Name: studio, Length: 211, dtype: int64\n",
            "------------------------------\n",
            "critics_rating\n",
            "\n",
            "Rotten             307\n",
            "Fresh              209\n",
            "Certified Fresh    135\n",
            "Name: critics_rating, dtype: int64\n",
            "------------------------------\n",
            "audience_rating\n",
            "\n",
            "Upright    376\n",
            "Spilled    275\n",
            "Name: audience_rating, dtype: int64\n",
            "------------------------------\n",
            "best_pic_nom\n",
            "\n",
            "no     629\n",
            "yes     22\n",
            "Name: best_pic_nom, dtype: int64\n",
            "------------------------------\n",
            "best_pic_win\n",
            "\n",
            "no     644\n",
            "yes      7\n",
            "Name: best_pic_win, dtype: int64\n",
            "------------------------------\n",
            "best_actor_win\n",
            "\n",
            "no     558\n",
            "yes     93\n",
            "Name: best_actor_win, dtype: int64\n",
            "------------------------------\n",
            "best_actress_win\n",
            "\n",
            "no     579\n",
            "yes     72\n",
            "Name: best_actress_win, dtype: int64\n",
            "------------------------------\n",
            "best_dir_win\n",
            "\n",
            "no     608\n",
            "yes     43\n",
            "Name: best_dir_win, dtype: int64\n",
            "------------------------------\n",
            "top200_box\n",
            "\n",
            "no     636\n",
            "yes     15\n",
            "Name: top200_box, dtype: int64\n",
            "------------------------------\n",
            "director\n",
            "\n",
            "James Ivory        4\n",
            "Martin Scorsese    4\n",
            "Oliver Stone       4\n",
            "Renny Harlin       4\n",
            "Woody Allen        4\n",
            "                  ..\n",
            "Terry Hughes       1\n",
            "Helen Hunt         1\n",
            "Adrian Grenier     1\n",
            "Stan Lathan        1\n",
            "Larry Wachowski    1\n",
            "Name: director, Length: 532, dtype: int64\n",
            "------------------------------\n",
            "actor1\n",
            "\n",
            "John Travolta             7\n",
            "Richard Gere              6\n",
            "Val Kilmer                5\n",
            "Jamie Foxx                5\n",
            "Al Pacino                 5\n",
            "                         ..\n",
            "David Koechner            1\n",
            "Jean-Claude Donda         1\n",
            "Nathan Forrest Winters    1\n",
            "Nick Stahl                1\n",
            "John Lennon               1\n",
            "Name: actor1, Length: 485, dtype: int64\n",
            "------------------------------\n",
            "actor2\n",
            "\n",
            "Diane Keaton         5\n",
            "Morgan Freeman       3\n",
            "Helen Hunt           3\n",
            "Samuel L. Jackson    3\n",
            "Steve Zahn           3\n",
            "                    ..\n",
            "Anthony Hopkins      1\n",
            "Frank Harper         1\n",
            "Peter Weller         1\n",
            "David Thewlis        1\n",
            "Dan Joyce            1\n",
            "Name: actor2, Length: 572, dtype: int64\n",
            "------------------------------\n",
            "actor3\n",
            "\n",
            "Jeremy Northam       3\n",
            "Brendan Gleeson      3\n",
            "William Forsythe     3\n",
            "Gary Busey           3\n",
            "Haley Joel Osment    2\n",
            "                    ..\n",
            "Tom Wilkinson        1\n",
            "John Pankow          1\n",
            "Parker Posey         1\n",
            "Michael York         1\n",
            "Kevin Mckidd         1\n",
            "Name: actor3, Length: 601, dtype: int64\n",
            "------------------------------\n",
            "actor4\n",
            "\n",
            "John P. Ryan          3\n",
            "Stephen Tobolowsky    3\n",
            "John Hurt             3\n",
            "Bruce Greenwood       2\n",
            "Peter Ustinov         2\n",
            "                     ..\n",
            "Bobby Cannavale       1\n",
            "Suzanne Pleshette     1\n",
            "Dominic Cooper        1\n",
            "Queen Latifah         1\n",
            "Jared Padalecki       1\n",
            "Name: actor4, Length: 607, dtype: int64\n",
            "------------------------------\n",
            "actor5\n",
            "\n",
            "Isaiah Washington       2\n",
            "Mark Metcalf            2\n",
            "Jay Mohr                2\n",
            "John Mahoney            2\n",
            "Jean Francois Heckel    2\n",
            "                       ..\n",
            "Alan Rickman            1\n",
            "Simon Schwarz           1\n",
            "Viejo                   1\n",
            "Sacha Baron Cohen       1\n",
            "Mike Realba             1\n",
            "Name: actor5, Length: 615, dtype: int64\n"
          ],
          "name": "stdout"
        }
      ]
    },
    {
      "cell_type": "markdown",
      "metadata": {
        "id": "fIA1lMOE9J-6"
      },
      "source": [
        "# Exploratory Data Analysis and Visualization\n",
        "\n",
        "*2) Start by plotting the Pearson correlation matrix for the numerical features. You may use this matrix for any of your answers in the coming questions.*"
      ]
    },
    {
      "cell_type": "code",
      "metadata": {
        "id": "X92OR8ZR9J-6",
        "outputId": "39790ad3-6af4-478e-81a2-391901ead444",
        "colab": {
          "base_uri": "https://localhost:8080/",
          "height": 523
        }
      },
      "source": [
        "plt.figure(figsize=(10,7))\n",
        "sns.heatmap(df.corr(), cmap='seismic', vmin=-1, vmax=1, annot=True, square=True, linewidths=0.5)"
      ],
      "execution_count": 9,
      "outputs": [
        {
          "output_type": "execute_result",
          "data": {
            "text/plain": [
              "<matplotlib.axes._subplots.AxesSubplot at 0x7fd24714aa58>"
            ]
          },
          "metadata": {
            "tags": []
          },
          "execution_count": 9
        },
        {
          "output_type": "display_data",
          "data": {
            "image/png": "[encoded data removed]",
            "text/plain": [
              "<Figure size 720x504 with 2 Axes>"
            ]
          },
          "metadata": {
            "tags": [],
            "needs_background": "light"
          }
        }
      ]
    },
    {
      "cell_type": "markdown",
      "metadata": {
        "id": "vWczEDQm9J-8"
      },
      "source": [
        "*3) Which is the most important variable in relation to our target variable \"imdb_rating\"? Visualize that relationship.*"
      ]
    },
    {
      "cell_type": "markdown",
      "metadata": {
        "id": "Lr-KoGcF9J-9"
      },
      "source": [
        "<span style=\"color:green\">\n",
        "It is clear from the correlation matrix that the audience_score has the highest correlation with imdb_rating = 0.86. The relationship is visualized in the scatterplot below\n",
        "</span>"
      ]
    },
    {
      "cell_type": "code",
      "metadata": {
        "id": "6hJhqCtb9J-9",
        "outputId": "1035209e-38e7-46a3-8546-ccb41f4c3541",
        "colab": {
          "base_uri": "https://localhost:8080/",
          "height": 297
        }
      },
      "source": [
        "sns.scatterplot(data=df,x='imdb_rating',y='audience_score')"
      ],
      "execution_count": 10,
      "outputs": [
        {
          "output_type": "execute_result",
          "data": {
            "text/plain": [
              "<matplotlib.axes._subplots.AxesSubplot at 0x7fd244666b38>"
            ]
          },
          "metadata": {
            "tags": []
          },
          "execution_count": 10
        },
        {
          "output_type": "display_data",
          "data": {
            "image/png": "[encoded data removed]",
            "text/plain": [
              "<Figure size 432x288 with 1 Axes>"
            ]
          },
          "metadata": {
            "tags": [],
            "needs_background": "light"
          }
        }
      ]
    },
    {
      "cell_type": "markdown",
      "metadata": {
        "id": "WESyMTAK9J-_"
      },
      "source": [
        "*4) Going back to the discussion regarding the month of release, does the month of release (theatrical or DVD) have a significant impact on any type of score? Why? Visualize its relationship with at least one of the scores to support your argument.*"
      ]
    },
    {
      "cell_type": "markdown",
      "metadata": {
        "id": "MSWu0YFZ9J_A"
      },
      "source": [
        "<span style=\"color:green\">\n",
        "There is no relationship at all between dvd_rel_month and audience_score. This is crystal clear from the scatterplot. \n",
        "</span>"
      ]
    },
    {
      "cell_type": "code",
      "metadata": {
        "id": "vKN9ELtSpsxb",
        "outputId": "e37f469f-29e2-4ca9-eb7d-034f31aee46d",
        "colab": {
          "base_uri": "https://localhost:8080/",
          "height": 297
        }
      },
      "source": [
        "sns.scatterplot(data=df,x='dvd_rel_month',y='audience_score')"
      ],
      "execution_count": 11,
      "outputs": [
        {
          "output_type": "execute_result",
          "data": {
            "text/plain": [
              "<matplotlib.axes._subplots.AxesSubplot at 0x7fd243717278>"
            ]
          },
          "metadata": {
            "tags": []
          },
          "execution_count": 11
        },
        {
          "output_type": "display_data",
          "data": {
            "image/png": "[encoded data removed]",
            "text/plain": [
              "<Figure size 432x288 with 1 Axes>"
            ]
          },
          "metadata": {
            "tags": [],
            "needs_background": "light"
          }
        }
      ]
    },
    {
      "cell_type": "markdown",
      "metadata": {
        "id": "EKTUkVsY9J_C"
      },
      "source": [
        "*5) Are the audience scores in agreement with the critics scores on Rotten Tomatoes? Justify your answer and visualize.*"
      ]
    },
    {
      "cell_type": "markdown",
      "metadata": {
        "id": "COZraALu9J_D"
      },
      "source": [
        "<span style=\"color:green\">\n",
        "\n",
        "First ,we visualize audience score and critics score in the first scatter plot below and see that they agree very well. Also note that they both are\n",
        "adequately proportional to the imdb rating from the two other curves.\n",
        "</span>"
      ]
    },
    {
      "cell_type": "code",
      "metadata": {
        "id": "4GGLtNXC9J_D",
        "outputId": "ca141571-c7ed-4c0c-c10d-ccdaa127bb57",
        "colab": {
          "base_uri": "https://localhost:8080/",
          "height": 1000
        }
      },
      "source": [
        "sns.scatterplot(data=df,x='audience_score',y='critics_score')\n",
        "sns.relplot(df.audience_score, df.imdb_rating, data = df, hue=\"imdb_rating\")\n",
        "sns.relplot(df.critics_score, df.imdb_rating, data=df, hue=\"imdb_rating\")"
      ],
      "execution_count": 126,
      "outputs": [
        {
          "output_type": "stream",
          "text": [
            "/usr/local/lib/python3.6/dist-packages/seaborn/_decorators.py:43: FutureWarning: Pass the following variables as keyword args: x, y. From version 0.12, the only valid positional argument will be `data`, and passing other arguments without an explicit keyword will result in an error or misinterpretation.\n",
            "  FutureWarning\n",
            "/usr/local/lib/python3.6/dist-packages/seaborn/_decorators.py:43: FutureWarning: Pass the following variables as keyword args: x, y. From version 0.12, the only valid positional argument will be `data`, and passing other arguments without an explicit keyword will result in an error or misinterpretation.\n",
            "  FutureWarning\n"
          ],
          "name": "stderr"
        },
        {
          "output_type": "execute_result",
          "data": {
            "text/plain": [
              "<seaborn.axisgrid.FacetGrid at 0x7fd23684ba58>"
            ]
          },
          "metadata": {
            "tags": []
          },
          "execution_count": 126
        },
        {
          "output_type": "display_data",
          "data": {
            "image/png": "[encoded data removed]",
            "text/plain": [
              "<Figure size 432x288 with 1 Axes>"
            ]
          },
          "metadata": {
            "tags": [],
            "needs_background": "light"
          }
        },
        {
          "output_type": "display_data",
          "data": {
            "image/png": "[encoded data removed]",
            "text/plain": [
              "<Figure size 427.875x360 with 1 Axes>"
            ]
          },
          "metadata": {
            "tags": [],
            "needs_background": "light"
          }
        },
        {
          "output_type": "display_data",
          "data": {
            "image/png": "[encoded data removed]",
            "text/plain": [
              "<Figure size 427.875x360 with 1 Axes>"
            ]
          },
          "metadata": {
            "tags": [],
            "needs_background": "light"
          }
        }
      ]
    },
    {
      "cell_type": "markdown",
      "metadata": {
        "id": "ZAy60REh9J_F"
      },
      "source": [
        "*6) Does being nominated to an Oscar bring in new viewers?*"
      ]
    },
    {
      "cell_type": "code",
      "metadata": {
        "id": "hr1_W0b49J_F",
        "outputId": "7f25f7d7-503a-4642-95ab-9737347bed07",
        "colab": {
          "base_uri": "https://localhost:8080/",
          "height": 296
        }
      },
      "source": [
        "sns.barplot(x='best_pic_nom',y='imdb_num_votes',data=df)\n"
      ],
      "execution_count": 128,
      "outputs": [
        {
          "output_type": "execute_result",
          "data": {
            "text/plain": [
              "<matplotlib.axes._subplots.AxesSubplot at 0x7fd23675fc18>"
            ]
          },
          "metadata": {
            "tags": []
          },
          "execution_count": 128
        },
        {
          "output_type": "display_data",
          "data": {
            "image/png": "[encoded data removed]",
            "text/plain": [
              "<Figure size 432x288 with 1 Axes>"
            ]
          },
          "metadata": {
            "tags": [],
            "needs_background": "light"
          }
        }
      ]
    },
    {
      "cell_type": "markdown",
      "metadata": {
        "id": "q3zn-Zyz9J_H"
      },
      "source": [
        "Yes of course. Taking the assumption that an increase in the number of imdb votes means an increase in number of viewers, then\n",
        "we can see according to the above barplot that the number of votes when a movie is not nominated  is lower than when a movie is nominated <span style=\"color:green\">\n",
        "\n",
        "</span>"
      ]
    },
    {
      "cell_type": "markdown",
      "metadata": {
        "id": "TK7jgIjQ9J_I"
      },
      "source": [
        "# Multivariate Linear Regression\n",
        "\n",
        "Our goal in this task is to predict the IMDB rating of a movie. We will select the following features to do the regression:\n",
        "- title_type\n",
        "- genre\n",
        "- runtime\n",
        "- mpaa_rating\n",
        "- imdb_num_votes\n",
        "- critics_rating\n",
        "- critics_score\n",
        "- audience_rating\n",
        "- audience_score\n",
        "- best_pic_nom\n",
        "- best_pic_win\n",
        "- best_actor_win\n",
        "- best_actress_win\n",
        "- best_dir_win\n",
        "- top200_box\n",
        "\n",
        "We do not include actor, director and studio names since that would lead to data sparsity which is outside the scope of this work. We can also assume that having features indicating whether actors and directors had previously earned an award is an indicator of their success without having to explicitly include their names.\n",
        "\n",
        "*7) Build a DataFrame with the above features and the target variable.*"
      ]
    },
    {
      "cell_type": "code",
      "metadata": {
        "id": "2GHoQNP49J_I",
        "outputId": "394045d1-8fb7-4195-b7e4-b5f21ce22158",
        "colab": {
          "base_uri": "https://localhost:8080/",
          "height": 219
        }
      },
      "source": [
        "data = df.drop(['actor1','actor2','actor3','actor4','actor5','director','studio','thtr_rel_month','dvd_rel_month'],axis=1)\n",
        "data.head()"
      ],
      "execution_count": 229,
      "outputs": [
        {
          "output_type": "execute_result",
          "data": {
            "text/html": [
              "<div>\n",
              "<style scoped>\n",
              "    .dataframe tbody tr th:only-of-type {\n",
              "        vertical-align: middle;\n",
              "    }\n",
              "\n",
              "    .dataframe tbody tr th {\n",
              "        vertical-align: top;\n",
              "    }\n",
              "\n",
              "    .dataframe thead th {\n",
              "        text-align: right;\n",
              "    }\n",
              "</style>\n",
              "<table border=\"1\" class=\"dataframe\">\n",
              "  <thead>\n",
              "    <tr style=\"text-align: right;\">\n",
              "      <th></th>\n",
              "      <th>title_type</th>\n",
              "      <th>genre</th>\n",
              "      <th>runtime</th>\n",
              "      <th>mpaa_rating</th>\n",
              "      <th>imdb_rating</th>\n",
              "      <th>imdb_num_votes</th>\n",
              "      <th>critics_rating</th>\n",
              "      <th>critics_score</th>\n",
              "      <th>audience_rating</th>\n",
              "      <th>audience_score</th>\n",
              "      <th>best_pic_nom</th>\n",
              "      <th>best_pic_win</th>\n",
              "      <th>best_actor_win</th>\n",
              "      <th>best_actress_win</th>\n",
              "      <th>best_dir_win</th>\n",
              "      <th>top200_box</th>\n",
              "    </tr>\n",
              "    <tr>\n",
              "      <th>title</th>\n",
              "      <th></th>\n",
              "      <th></th>\n",
              "      <th></th>\n",
              "      <th></th>\n",
              "      <th></th>\n",
              "      <th></th>\n",
              "      <th></th>\n",
              "      <th></th>\n",
              "      <th></th>\n",
              "      <th></th>\n",
              "      <th></th>\n",
              "      <th></th>\n",
              "      <th></th>\n",
              "      <th></th>\n",
              "      <th></th>\n",
              "      <th></th>\n",
              "    </tr>\n",
              "  </thead>\n",
              "  <tbody>\n",
              "    <tr>\n",
              "      <th>Filly Brown</th>\n",
              "      <td>Feature Film</td>\n",
              "      <td>Drama</td>\n",
              "      <td>80.0</td>\n",
              "      <td>R</td>\n",
              "      <td>5.5</td>\n",
              "      <td>899</td>\n",
              "      <td>Rotten</td>\n",
              "      <td>45</td>\n",
              "      <td>Upright</td>\n",
              "      <td>73</td>\n",
              "      <td>no</td>\n",
              "      <td>no</td>\n",
              "      <td>no</td>\n",
              "      <td>no</td>\n",
              "      <td>no</td>\n",
              "      <td>no</td>\n",
              "    </tr>\n",
              "    <tr>\n",
              "      <th>The Dish</th>\n",
              "      <td>Feature Film</td>\n",
              "      <td>Drama</td>\n",
              "      <td>101.0</td>\n",
              "      <td>PG-13</td>\n",
              "      <td>7.3</td>\n",
              "      <td>12285</td>\n",
              "      <td>Certified Fresh</td>\n",
              "      <td>96</td>\n",
              "      <td>Upright</td>\n",
              "      <td>81</td>\n",
              "      <td>no</td>\n",
              "      <td>no</td>\n",
              "      <td>no</td>\n",
              "      <td>no</td>\n",
              "      <td>no</td>\n",
              "      <td>no</td>\n",
              "    </tr>\n",
              "    <tr>\n",
              "      <th>Waiting for Guffman</th>\n",
              "      <td>Feature Film</td>\n",
              "      <td>Comedy</td>\n",
              "      <td>84.0</td>\n",
              "      <td>R</td>\n",
              "      <td>7.6</td>\n",
              "      <td>22381</td>\n",
              "      <td>Certified Fresh</td>\n",
              "      <td>91</td>\n",
              "      <td>Upright</td>\n",
              "      <td>91</td>\n",
              "      <td>no</td>\n",
              "      <td>no</td>\n",
              "      <td>no</td>\n",
              "      <td>no</td>\n",
              "      <td>no</td>\n",
              "      <td>no</td>\n",
              "    </tr>\n",
              "    <tr>\n",
              "      <th>The Age of Innocence</th>\n",
              "      <td>Feature Film</td>\n",
              "      <td>Drama</td>\n",
              "      <td>139.0</td>\n",
              "      <td>PG</td>\n",
              "      <td>7.2</td>\n",
              "      <td>35096</td>\n",
              "      <td>Certified Fresh</td>\n",
              "      <td>80</td>\n",
              "      <td>Upright</td>\n",
              "      <td>76</td>\n",
              "      <td>no</td>\n",
              "      <td>no</td>\n",
              "      <td>yes</td>\n",
              "      <td>no</td>\n",
              "      <td>yes</td>\n",
              "      <td>no</td>\n",
              "    </tr>\n",
              "    <tr>\n",
              "      <th>Malevolence</th>\n",
              "      <td>Feature Film</td>\n",
              "      <td>Horror</td>\n",
              "      <td>90.0</td>\n",
              "      <td>R</td>\n",
              "      <td>5.1</td>\n",
              "      <td>2386</td>\n",
              "      <td>Rotten</td>\n",
              "      <td>33</td>\n",
              "      <td>Spilled</td>\n",
              "      <td>27</td>\n",
              "      <td>no</td>\n",
              "      <td>no</td>\n",
              "      <td>no</td>\n",
              "      <td>no</td>\n",
              "      <td>no</td>\n",
              "      <td>no</td>\n",
              "    </tr>\n",
              "  </tbody>\n",
              "</table>\n",
              "</div>"
            ],
            "text/plain": [
              "                        title_type   genre  ...  best_dir_win top200_box\n",
              "title                                       ...                         \n",
              "Filly Brown           Feature Film   Drama  ...            no         no\n",
              "The Dish              Feature Film   Drama  ...            no         no\n",
              "Waiting for Guffman   Feature Film  Comedy  ...            no         no\n",
              "The Age of Innocence  Feature Film   Drama  ...           yes         no\n",
              "Malevolence           Feature Film  Horror  ...            no         no\n",
              "\n",
              "[5 rows x 16 columns]"
            ]
          },
          "metadata": {
            "tags": []
          },
          "execution_count": 229
        }
      ]
    },
    {
      "cell_type": "markdown",
      "metadata": {
        "id": "xTsOfNQw9J_K"
      },
      "source": [
        "*8) Show the number of missing values. Drop the rows with missing values if any.*"
      ]
    },
    {
      "cell_type": "code",
      "metadata": {
        "id": "PYxVIpER9J_K",
        "outputId": "098d6119-b57d-40c8-d695-7037920e8f59",
        "colab": {
          "base_uri": "https://localhost:8080/",
          "height": 302
        }
      },
      "source": [
        "data.isnull().sum()\n"
      ],
      "execution_count": 230,
      "outputs": [
        {
          "output_type": "execute_result",
          "data": {
            "text/plain": [
              "title_type          0\n",
              "genre               0\n",
              "runtime             1\n",
              "mpaa_rating         0\n",
              "imdb_rating         0\n",
              "imdb_num_votes      0\n",
              "critics_rating      0\n",
              "critics_score       0\n",
              "audience_rating     0\n",
              "audience_score      0\n",
              "best_pic_nom        0\n",
              "best_pic_win        0\n",
              "best_actor_win      0\n",
              "best_actress_win    0\n",
              "best_dir_win        0\n",
              "top200_box          0\n",
              "dtype: int64"
            ]
          },
          "metadata": {
            "tags": []
          },
          "execution_count": 230
        }
      ]
    },
    {
      "cell_type": "code",
      "metadata": {
        "tags": [],
        "id": "J6FCMxpT9J_N",
        "outputId": "c1fcaf66-74f4-44c8-d06e-373d91a2d5c7",
        "colab": {
          "base_uri": "https://localhost:8080/",
          "height": 403
        }
      },
      "source": [
        "#your code here\n",
        "data=data.dropna()\n",
        "data.info()"
      ],
      "execution_count": 231,
      "outputs": [
        {
          "output_type": "stream",
          "text": [
            "<class 'pandas.core.frame.DataFrame'>\n",
            "Index: 650 entries, Filly Brown to LOL\n",
            "Data columns (total 16 columns):\n",
            " #   Column            Non-Null Count  Dtype  \n",
            "---  ------            --------------  -----  \n",
            " 0   title_type        650 non-null    object \n",
            " 1   genre             650 non-null    object \n",
            " 2   runtime           650 non-null    float64\n",
            " 3   mpaa_rating       650 non-null    object \n",
            " 4   imdb_rating       650 non-null    float64\n",
            " 5   imdb_num_votes    650 non-null    int64  \n",
            " 6   critics_rating    650 non-null    object \n",
            " 7   critics_score     650 non-null    int64  \n",
            " 8   audience_rating   650 non-null    object \n",
            " 9   audience_score    650 non-null    int64  \n",
            " 10  best_pic_nom      650 non-null    object \n",
            " 11  best_pic_win      650 non-null    object \n",
            " 12  best_actor_win    650 non-null    object \n",
            " 13  best_actress_win  650 non-null    object \n",
            " 14  best_dir_win      650 non-null    object \n",
            " 15  top200_box        650 non-null    object \n",
            "dtypes: float64(2), int64(3), object(11)\n",
            "memory usage: 86.3+ KB\n"
          ],
          "name": "stdout"
        }
      ]
    },
    {
      "cell_type": "markdown",
      "metadata": {
        "id": "peuQBd9y9J_O"
      },
      "source": [
        "*9) Use one-hot encoding to represent categorical features.*"
      ]
    },
    {
      "cell_type": "code",
      "metadata": {
        "id": "XCorMPVW9J_P",
        "outputId": "76c1159c-7be1-48ea-800e-9ada68bb0580",
        "colab": {
          "base_uri": "https://localhost:8080/",
          "height": 306
        }
      },
      "source": [
        "#your code here\n",
        "data=pd.get_dummies(data)\n",
        "data.head()"
      ],
      "execution_count": 232,
      "outputs": [
        {
          "output_type": "execute_result",
          "data": {
            "text/html": [
              "<div>\n",
              "<style scoped>\n",
              "    .dataframe tbody tr th:only-of-type {\n",
              "        vertical-align: middle;\n",
              "    }\n",
              "\n",
              "    .dataframe tbody tr th {\n",
              "        vertical-align: top;\n",
              "    }\n",
              "\n",
              "    .dataframe thead th {\n",
              "        text-align: right;\n",
              "    }\n",
              "</style>\n",
              "<table border=\"1\" class=\"dataframe\">\n",
              "  <thead>\n",
              "    <tr style=\"text-align: right;\">\n",
              "      <th></th>\n",
              "      <th>runtime</th>\n",
              "      <th>imdb_rating</th>\n",
              "      <th>imdb_num_votes</th>\n",
              "      <th>critics_score</th>\n",
              "      <th>audience_score</th>\n",
              "      <th>title_type_Documentary</th>\n",
              "      <th>title_type_Feature Film</th>\n",
              "      <th>title_type_TV Movie</th>\n",
              "      <th>genre_Action &amp; Adventure</th>\n",
              "      <th>genre_Animation</th>\n",
              "      <th>genre_Art House &amp; International</th>\n",
              "      <th>genre_Comedy</th>\n",
              "      <th>genre_Documentary</th>\n",
              "      <th>genre_Drama</th>\n",
              "      <th>genre_Horror</th>\n",
              "      <th>genre_Musical &amp; Performing Arts</th>\n",
              "      <th>genre_Mystery &amp; Suspense</th>\n",
              "      <th>genre_Other</th>\n",
              "      <th>genre_Science Fiction &amp; Fantasy</th>\n",
              "      <th>mpaa_rating_G</th>\n",
              "      <th>mpaa_rating_NC-17</th>\n",
              "      <th>mpaa_rating_PG</th>\n",
              "      <th>mpaa_rating_PG-13</th>\n",
              "      <th>mpaa_rating_R</th>\n",
              "      <th>mpaa_rating_Unrated</th>\n",
              "      <th>critics_rating_Certified Fresh</th>\n",
              "      <th>critics_rating_Fresh</th>\n",
              "      <th>critics_rating_Rotten</th>\n",
              "      <th>audience_rating_Spilled</th>\n",
              "      <th>audience_rating_Upright</th>\n",
              "      <th>best_pic_nom_no</th>\n",
              "      <th>best_pic_nom_yes</th>\n",
              "      <th>best_pic_win_no</th>\n",
              "      <th>best_pic_win_yes</th>\n",
              "      <th>best_actor_win_no</th>\n",
              "      <th>best_actor_win_yes</th>\n",
              "      <th>best_actress_win_no</th>\n",
              "      <th>best_actress_win_yes</th>\n",
              "      <th>best_dir_win_no</th>\n",
              "      <th>best_dir_win_yes</th>\n",
              "      <th>top200_box_no</th>\n",
              "      <th>top200_box_yes</th>\n",
              "    </tr>\n",
              "    <tr>\n",
              "      <th>title</th>\n",
              "      <th></th>\n",
              "      <th></th>\n",
              "      <th></th>\n",
              "      <th></th>\n",
              "      <th></th>\n",
              "      <th></th>\n",
              "      <th></th>\n",
              "      <th></th>\n",
              "      <th></th>\n",
              "      <th></th>\n",
              "      <th></th>\n",
              "      <th></th>\n",
              "      <th></th>\n",
              "      <th></th>\n",
              "      <th></th>\n",
              "      <th></th>\n",
              "      <th></th>\n",
              "      <th></th>\n",
              "      <th></th>\n",
              "      <th></th>\n",
              "      <th></th>\n",
              "      <th></th>\n",
              "      <th></th>\n",
              "      <th></th>\n",
              "      <th></th>\n",
              "      <th></th>\n",
              "      <th></th>\n",
              "      <th></th>\n",
              "      <th></th>\n",
              "      <th></th>\n",
              "      <th></th>\n",
              "      <th></th>\n",
              "      <th></th>\n",
              "      <th></th>\n",
              "      <th></th>\n",
              "      <th></th>\n",
              "      <th></th>\n",
              "      <th></th>\n",
              "      <th></th>\n",
              "      <th></th>\n",
              "      <th></th>\n",
              "      <th></th>\n",
              "    </tr>\n",
              "  </thead>\n",
              "  <tbody>\n",
              "    <tr>\n",
              "      <th>Filly Brown</th>\n",
              "      <td>80.0</td>\n",
              "      <td>5.5</td>\n",
              "      <td>899</td>\n",
              "      <td>45</td>\n",
              "      <td>73</td>\n",
              "      <td>0</td>\n",
              "      <td>1</td>\n",
              "      <td>0</td>\n",
              "      <td>0</td>\n",
              "      <td>0</td>\n",
              "      <td>0</td>\n",
              "      <td>0</td>\n",
              "      <td>0</td>\n",
              "      <td>1</td>\n",
              "      <td>0</td>\n",
              "      <td>0</td>\n",
              "      <td>0</td>\n",
              "      <td>0</td>\n",
              "      <td>0</td>\n",
              "      <td>0</td>\n",
              "      <td>0</td>\n",
              "      <td>0</td>\n",
              "      <td>0</td>\n",
              "      <td>1</td>\n",
              "      <td>0</td>\n",
              "      <td>0</td>\n",
              "      <td>0</td>\n",
              "      <td>1</td>\n",
              "      <td>0</td>\n",
              "      <td>1</td>\n",
              "      <td>1</td>\n",
              "      <td>0</td>\n",
              "      <td>1</td>\n",
              "      <td>0</td>\n",
              "      <td>1</td>\n",
              "      <td>0</td>\n",
              "      <td>1</td>\n",
              "      <td>0</td>\n",
              "      <td>1</td>\n",
              "      <td>0</td>\n",
              "      <td>1</td>\n",
              "      <td>0</td>\n",
              "    </tr>\n",
              "    <tr>\n",
              "      <th>The Dish</th>\n",
              "      <td>101.0</td>\n",
              "      <td>7.3</td>\n",
              "      <td>12285</td>\n",
              "      <td>96</td>\n",
              "      <td>81</td>\n",
              "      <td>0</td>\n",
              "      <td>1</td>\n",
              "      <td>0</td>\n",
              "      <td>0</td>\n",
              "      <td>0</td>\n",
              "      <td>0</td>\n",
              "      <td>0</td>\n",
              "      <td>0</td>\n",
              "      <td>1</td>\n",
              "      <td>0</td>\n",
              "      <td>0</td>\n",
              "      <td>0</td>\n",
              "      <td>0</td>\n",
              "      <td>0</td>\n",
              "      <td>0</td>\n",
              "      <td>0</td>\n",
              "      <td>0</td>\n",
              "      <td>1</td>\n",
              "      <td>0</td>\n",
              "      <td>0</td>\n",
              "      <td>1</td>\n",
              "      <td>0</td>\n",
              "      <td>0</td>\n",
              "      <td>0</td>\n",
              "      <td>1</td>\n",
              "      <td>1</td>\n",
              "      <td>0</td>\n",
              "      <td>1</td>\n",
              "      <td>0</td>\n",
              "      <td>1</td>\n",
              "      <td>0</td>\n",
              "      <td>1</td>\n",
              "      <td>0</td>\n",
              "      <td>1</td>\n",
              "      <td>0</td>\n",
              "      <td>1</td>\n",
              "      <td>0</td>\n",
              "    </tr>\n",
              "    <tr>\n",
              "      <th>Waiting for Guffman</th>\n",
              "      <td>84.0</td>\n",
              "      <td>7.6</td>\n",
              "      <td>22381</td>\n",
              "      <td>91</td>\n",
              "      <td>91</td>\n",
              "      <td>0</td>\n",
              "      <td>1</td>\n",
              "      <td>0</td>\n",
              "      <td>0</td>\n",
              "      <td>0</td>\n",
              "      <td>0</td>\n",
              "      <td>1</td>\n",
              "      <td>0</td>\n",
              "      <td>0</td>\n",
              "      <td>0</td>\n",
              "      <td>0</td>\n",
              "      <td>0</td>\n",
              "      <td>0</td>\n",
              "      <td>0</td>\n",
              "      <td>0</td>\n",
              "      <td>0</td>\n",
              "      <td>0</td>\n",
              "      <td>0</td>\n",
              "      <td>1</td>\n",
              "      <td>0</td>\n",
              "      <td>1</td>\n",
              "      <td>0</td>\n",
              "      <td>0</td>\n",
              "      <td>0</td>\n",
              "      <td>1</td>\n",
              "      <td>1</td>\n",
              "      <td>0</td>\n",
              "      <td>1</td>\n",
              "      <td>0</td>\n",
              "      <td>1</td>\n",
              "      <td>0</td>\n",
              "      <td>1</td>\n",
              "      <td>0</td>\n",
              "      <td>1</td>\n",
              "      <td>0</td>\n",
              "      <td>1</td>\n",
              "      <td>0</td>\n",
              "    </tr>\n",
              "    <tr>\n",
              "      <th>The Age of Innocence</th>\n",
              "      <td>139.0</td>\n",
              "      <td>7.2</td>\n",
              "      <td>35096</td>\n",
              "      <td>80</td>\n",
              "      <td>76</td>\n",
              "      <td>0</td>\n",
              "      <td>1</td>\n",
              "      <td>0</td>\n",
              "      <td>0</td>\n",
              "      <td>0</td>\n",
              "      <td>0</td>\n",
              "      <td>0</td>\n",
              "      <td>0</td>\n",
              "      <td>1</td>\n",
              "      <td>0</td>\n",
              "      <td>0</td>\n",
              "      <td>0</td>\n",
              "      <td>0</td>\n",
              "      <td>0</td>\n",
              "      <td>0</td>\n",
              "      <td>0</td>\n",
              "      <td>1</td>\n",
              "      <td>0</td>\n",
              "      <td>0</td>\n",
              "      <td>0</td>\n",
              "      <td>1</td>\n",
              "      <td>0</td>\n",
              "      <td>0</td>\n",
              "      <td>0</td>\n",
              "      <td>1</td>\n",
              "      <td>1</td>\n",
              "      <td>0</td>\n",
              "      <td>1</td>\n",
              "      <td>0</td>\n",
              "      <td>0</td>\n",
              "      <td>1</td>\n",
              "      <td>1</td>\n",
              "      <td>0</td>\n",
              "      <td>0</td>\n",
              "      <td>1</td>\n",
              "      <td>1</td>\n",
              "      <td>0</td>\n",
              "    </tr>\n",
              "    <tr>\n",
              "      <th>Malevolence</th>\n",
              "      <td>90.0</td>\n",
              "      <td>5.1</td>\n",
              "      <td>2386</td>\n",
              "      <td>33</td>\n",
              "      <td>27</td>\n",
              "      <td>0</td>\n",
              "      <td>1</td>\n",
              "      <td>0</td>\n",
              "      <td>0</td>\n",
              "      <td>0</td>\n",
              "      <td>0</td>\n",
              "      <td>0</td>\n",
              "      <td>0</td>\n",
              "      <td>0</td>\n",
              "      <td>1</td>\n",
              "      <td>0</td>\n",
              "      <td>0</td>\n",
              "      <td>0</td>\n",
              "      <td>0</td>\n",
              "      <td>0</td>\n",
              "      <td>0</td>\n",
              "      <td>0</td>\n",
              "      <td>0</td>\n",
              "      <td>1</td>\n",
              "      <td>0</td>\n",
              "      <td>0</td>\n",
              "      <td>0</td>\n",
              "      <td>1</td>\n",
              "      <td>1</td>\n",
              "      <td>0</td>\n",
              "      <td>1</td>\n",
              "      <td>0</td>\n",
              "      <td>1</td>\n",
              "      <td>0</td>\n",
              "      <td>1</td>\n",
              "      <td>0</td>\n",
              "      <td>1</td>\n",
              "      <td>0</td>\n",
              "      <td>1</td>\n",
              "      <td>0</td>\n",
              "      <td>1</td>\n",
              "      <td>0</td>\n",
              "    </tr>\n",
              "  </tbody>\n",
              "</table>\n",
              "</div>"
            ],
            "text/plain": [
              "                      runtime  imdb_rating  ...  top200_box_no  top200_box_yes\n",
              "title                                       ...                               \n",
              "Filly Brown              80.0          5.5  ...              1               0\n",
              "The Dish                101.0          7.3  ...              1               0\n",
              "Waiting for Guffman      84.0          7.6  ...              1               0\n",
              "The Age of Innocence    139.0          7.2  ...              1               0\n",
              "Malevolence              90.0          5.1  ...              1               0\n",
              "\n",
              "[5 rows x 42 columns]"
            ]
          },
          "metadata": {
            "tags": []
          },
          "execution_count": 232
        }
      ]
    },
    {
      "cell_type": "markdown",
      "metadata": {
        "id": "f5RARqX29J_R"
      },
      "source": [
        "*10) Scale the numerical features.*"
      ]
    },
    {
      "cell_type": "code",
      "metadata": {
        "id": "jiX_c_Z99J_R",
        "outputId": "c5dff908-8e50-4ffd-9d44-72d1226376ad",
        "colab": {
          "base_uri": "https://localhost:8080/",
          "height": 277
        }
      },
      "source": [
        "from sklearn.preprocessing import StandardScaler\n",
        "\n",
        "scaler = StandardScaler()\n",
        "\n",
        "list_numerical_features = ['imdb_rating','runtime','imdb_num_votes','critics_score','audience_score']\n",
        "data.loc[:,list_numerical_features] = scaler.fit_transform(data.loc[:,list_numerical_features])\n",
        "data.loc[:,list_numerical_features].describe()\n"
      ],
      "execution_count": 233,
      "outputs": [
        {
          "output_type": "execute_result",
          "data": {
            "text/html": [
              "<div>\n",
              "<style scoped>\n",
              "    .dataframe tbody tr th:only-of-type {\n",
              "        vertical-align: middle;\n",
              "    }\n",
              "\n",
              "    .dataframe tbody tr th {\n",
              "        vertical-align: top;\n",
              "    }\n",
              "\n",
              "    .dataframe thead th {\n",
              "        text-align: right;\n",
              "    }\n",
              "</style>\n",
              "<table border=\"1\" class=\"dataframe\">\n",
              "  <thead>\n",
              "    <tr style=\"text-align: right;\">\n",
              "      <th></th>\n",
              "      <th>imdb_rating</th>\n",
              "      <th>runtime</th>\n",
              "      <th>imdb_num_votes</th>\n",
              "      <th>critics_score</th>\n",
              "      <th>audience_score</th>\n",
              "    </tr>\n",
              "  </thead>\n",
              "  <tbody>\n",
              "    <tr>\n",
              "      <th>count</th>\n",
              "      <td>6.500000e+02</td>\n",
              "      <td>6.500000e+02</td>\n",
              "      <td>6.500000e+02</td>\n",
              "      <td>6.500000e+02</td>\n",
              "      <td>6.500000e+02</td>\n",
              "    </tr>\n",
              "    <tr>\n",
              "      <th>mean</th>\n",
              "      <td>-3.641532e-16</td>\n",
              "      <td>-2.784098e-16</td>\n",
              "      <td>1.870299e-17</td>\n",
              "      <td>3.279428e-17</td>\n",
              "      <td>9.035507e-17</td>\n",
              "    </tr>\n",
              "    <tr>\n",
              "      <th>std</th>\n",
              "      <td>1.000770e+00</td>\n",
              "      <td>1.000770e+00</td>\n",
              "      <td>1.000770e+00</td>\n",
              "      <td>1.000770e+00</td>\n",
              "      <td>1.000770e+00</td>\n",
              "    </tr>\n",
              "    <tr>\n",
              "      <th>min</th>\n",
              "      <td>-4.235634e+00</td>\n",
              "      <td>-3.439076e+00</td>\n",
              "      <td>-5.123927e-01</td>\n",
              "      <td>-1.995594e+00</td>\n",
              "      <td>-2.539566e+00</td>\n",
              "    </tr>\n",
              "    <tr>\n",
              "      <th>25%</th>\n",
              "      <td>-5.456864e-01</td>\n",
              "      <td>-7.113473e-01</td>\n",
              "      <td>-4.731049e-01</td>\n",
              "      <td>-8.684153e-01</td>\n",
              "      <td>-8.085278e-01</td>\n",
              "    </tr>\n",
              "    <tr>\n",
              "      <th>50%</th>\n",
              "      <td>1.000543e-01</td>\n",
              "      <td>-1.452149e-01</td>\n",
              "      <td>-3.783766e-01</td>\n",
              "      <td>1.178660e-01</td>\n",
              "      <td>1.311784e-01</td>\n",
              "    </tr>\n",
              "    <tr>\n",
              "      <th>75%</th>\n",
              "      <td>7.457951e-01</td>\n",
              "      <td>5.109840e-01</td>\n",
              "      <td>7.706284e-03</td>\n",
              "      <td>8.928014e-01</td>\n",
              "      <td>8.730517e-01</td>\n",
              "    </tr>\n",
              "    <tr>\n",
              "      <th>max</th>\n",
              "      <td>2.314023e+00</td>\n",
              "      <td>8.295305e+00</td>\n",
              "      <td>7.452017e+00</td>\n",
              "      <td>1.491615e+00</td>\n",
              "      <td>1.713841e+00</td>\n",
              "    </tr>\n",
              "  </tbody>\n",
              "</table>\n",
              "</div>"
            ],
            "text/plain": [
              "        imdb_rating       runtime  ...  critics_score  audience_score\n",
              "count  6.500000e+02  6.500000e+02  ...   6.500000e+02    6.500000e+02\n",
              "mean  -3.641532e-16 -2.784098e-16  ...   3.279428e-17    9.035507e-17\n",
              "std    1.000770e+00  1.000770e+00  ...   1.000770e+00    1.000770e+00\n",
              "min   -4.235634e+00 -3.439076e+00  ...  -1.995594e+00   -2.539566e+00\n",
              "25%   -5.456864e-01 -7.113473e-01  ...  -8.684153e-01   -8.085278e-01\n",
              "50%    1.000543e-01 -1.452149e-01  ...   1.178660e-01    1.311784e-01\n",
              "75%    7.457951e-01  5.109840e-01  ...   8.928014e-01    8.730517e-01\n",
              "max    2.314023e+00  8.295305e+00  ...   1.491615e+00    1.713841e+00\n",
              "\n",
              "[8 rows x 5 columns]"
            ]
          },
          "metadata": {
            "tags": []
          },
          "execution_count": 233
        }
      ]
    },
    {
      "cell_type": "markdown",
      "metadata": {
        "id": "OIFDozbp9J_T"
      },
      "source": [
        "*11) Split the data for training and testing.*"
      ]
    },
    {
      "cell_type": "code",
      "metadata": {
        "id": "hzLvpFtp9J_T"
      },
      "source": [
        "from sklearn.model_selection import train_test_split\n",
        "\n",
        "X = data.drop(\"imdb_rating\",axis=1)\n",
        "# We insert a column of ones at the beginning for the intercept term\n",
        "X.insert(0, 'bias', np.ones(X.shape[0]))\n",
        "X = X.values\n",
        "\n",
        "y = data['imdb_rating'].values\n",
        "X_train, X_test, y_train, y_test = train_test_split(X,y,test_size=0.3)"
      ],
      "execution_count": 234,
      "outputs": []
    },
    {
      "cell_type": "markdown",
      "metadata": {
        "id": "ZO32SeYt9J_V"
      },
      "source": [
        "## Implementing Linear Regression\n",
        "\n",
        "Since this is a multivariate regression you must use matrix notations and operations.\n",
        "\n",
        "FYI about handling matrices using Numpy arrays:\n",
        "- the @ operator is for matrix multiplication.\n",
        "- the * operator is for elementwise multiplication.\n",
        "\n",
        "*12) Compute the optimal parameters using batch gradient descent. Play around with the values of the learning rate and the number of epochs until you think the loss is good. Show the values for the optimal parameters, the final loss value and the learning curve.*"
      ]
    },
    {
      "cell_type": "code",
      "metadata": {
        "tags": [],
        "id": "QT3nkSJt9J_V",
        "outputId": "a8e88a83-07ba-4d4d-ffe7-ea471d073dab",
        "colab": {
          "base_uri": "https://localhost:8080/",
          "height": 496
        }
      },
      "source": [
        "m = len(y_train) # number of samples\n",
        "n = X_train.shape[1] # number of features\n",
        "w = np.zeros(n) # model parameters\n",
        "lr = 0.01 # learning rate\n",
        "nb_epochs = 500\n",
        "losses = np.empty(nb_epochs) # to record convergence of the loss\n",
        "\n",
        "for epoch in range(0,nb_epochs) :\n",
        "    y_pred=X_train@(w)\n",
        "    error = y_pred - y_train\n",
        "    gradient= X_train.T.dot(error)/m\n",
        "    mse = np.sum((X_train@w-y_train)**2)/(2*m)\n",
        "    losses[epoch] = mse\n",
        "    w -=(lr*gradient)\n",
        "print(f'Optimal parameters:\\n {w}')\n",
        "print(f'Final Loss: {losses[-1]}')\n",
        "plt.plot(losses)\n",
        "plt.xlabel('Epoch')\n",
        "plt.ylabel('MSE')\n",
        "plt.grid()\n"
      ],
      "execution_count": 252,
      "outputs": [
        {
          "output_type": "stream",
          "text": [
            "Optimal parameters:\n",
            " [ 9.65984304e-03  8.60480990e-02  8.85753999e-02  3.04970929e-01\n",
            "  4.69106842e-01  7.26088597e-02 -6.48086251e-02  1.85960846e-03\n",
            " -3.00260849e-02 -2.52558941e-02  1.62911064e-02 -1.09144846e-01\n",
            "  7.61042394e-02  4.71168771e-02 -2.73745708e-03  7.60899374e-03\n",
            "  5.10426084e-02 -1.22344435e-02 -9.10525596e-03 -6.56076190e-03\n",
            "  1.38420043e-04 -1.24724213e-02 -1.30673222e-02  1.07918769e-04\n",
            "  4.15140096e-02  1.28248975e-02 -2.81683157e-03 -3.48222888e-04\n",
            " -5.42958544e-02  6.39556974e-02  9.40154291e-04  8.71968875e-03\n",
            "  8.97142702e-03  6.88416028e-04 -2.30780126e-03  1.19676443e-02\n",
            " -4.50062011e-04  1.01099051e-02 -2.36386393e-03  1.20237070e-02\n",
            "  1.88675124e-02 -9.20766931e-03]\n",
            "Final Loss: 0.09078663112196483\n"
          ],
          "name": "stdout"
        },
        {
          "output_type": "display_data",
          "data": {
            "image/png": "[encoded data removed]",
            "text/plain": [
              "<Figure size 432x288 with 1 Axes>"
            ]
          },
          "metadata": {
            "tags": [],
            "needs_background": "light"
          }
        }
      ]
    },
    {
      "cell_type": "markdown",
      "metadata": {
        "id": "K52IdSyqh-4z"
      },
      "source": [
        "In order to check our work we check with an already implemented library\n",
        "Our work will be known to be true or not in 13)"
      ]
    },
    {
      "cell_type": "code",
      "metadata": {
        "id": "hjEtMHb9hvDe",
        "outputId": "442ebff3-3385-4b59-fb88-0df0fdf8bd69",
        "colab": {
          "base_uri": "https://localhost:8080/",
          "height": 33
        }
      },
      "source": [
        "from sklearn.linear_model import LinearRegression\n",
        "from sklearn.metrics import r2_score\n",
        "model = LinearRegression()\n",
        "model.fit(X_train, y_train)\n",
        "y_pred = model.predict(X_test)\n",
        "r2_score(y_test, y_pred) "
      ],
      "execution_count": 253,
      "outputs": [
        {
          "output_type": "execute_result",
          "data": {
            "text/plain": [
              "0.835214688080343"
            ]
          },
          "metadata": {
            "tags": []
          },
          "execution_count": 253
        }
      ]
    },
    {
      "cell_type": "markdown",
      "metadata": {
        "id": "YWwzLcPQ9J_X"
      },
      "source": [
        "*13) Compute the mean squared error and the R2 score on the test set.*"
      ]
    },
    {
      "cell_type": "code",
      "metadata": {
        "tags": [],
        "id": "ND_INZzb9J_X",
        "outputId": "9e7ff7b6-746f-41b1-8e58-96d48c5ac9ea",
        "colab": {
          "base_uri": "https://localhost:8080/",
          "height": 50
        }
      },
      "source": [
        "from sklearn.metrics import r2_score, mean_squared_error\n",
        "\n",
        "y_pred_test = X_test@w\n",
        "test_error=y_pred_test-y_test\n",
        "r2=1-(np.sum(test_error**2)/np.sum((y_test-y_test.mean())**2))\n",
        "mse = mean_squared_error(y_test,y_pred_test)\n",
        "print(f'R2 score: {r2}')\n",
        "print(f'MSE: {mse}')"
      ],
      "execution_count": 257,
      "outputs": [
        {
          "output_type": "stream",
          "text": [
            "R2 score: 0.8035678660263451\n",
            "MSE: 0.2147895886537489\n"
          ],
          "name": "stdout"
        }
      ]
    },
    {
      "cell_type": "markdown",
      "metadata": {
        "id": "eGZIS-ms9J_Z"
      },
      "source": [
        "# Classification using Logistic Regression\n",
        "\n",
        "Using the same dataset, you must now predict whether a movie will win an Oscar or not.\n",
        "\n",
        "We will select the following features to do the classification:\n",
        "- title_type\n",
        "- genre\n",
        "- runtime\n",
        "- mpaa_rating\n",
        "- imdb_num_votes\n",
        "- imdb_ratings\n",
        "- critics_rating\n",
        "- critics_score\n",
        "- audience_rating\n",
        "- audience_score\n",
        "- best_actor_win\n",
        "- best_actress_win\n",
        "- best_dir_win\n",
        "- top200_box\n",
        "\n",
        "Note that \"imdb_rating\" is now being used as a feature and our new target variable is \"best_pic_win\". We also dropped the \"best_pic_nom\" feature since we would like to predict the possibility of winning before the awards season so we should not rely on nomination information.\n",
        "\n",
        "*14) Build a DataFrame with the needed columns, check for missing values, apply one-hot encoding, feature scaling and data splitting.*"
      ]
    },
    {
      "cell_type": "code",
      "metadata": {
        "id": "-qGjhvBZ9J_a"
      },
      "source": [
        "dfnew = pd.read_csv('movies.csv',usecols=['title_type','genre','runtime','mpaa_rating','imdb_num_votes','critics_rating','critics_score','audience_rating','audience_score','best_pic_win','best_actor_win','best_actress_win','best_dir_win','top200_box','imdb_rating'])\n",
        "dfnew.isnull().sum()\n",
        "dfnew=dfnew.dropna()\n",
        "dfnew=pd.get_dummies(dfnew,drop_first=True)\n",
        "scaler = StandardScaler()\n",
        "\n",
        "list_numerical_features = ['runtime','imdb_num_votes','critics_score','audience_score','imdb_rating']\n",
        "dfnew.loc[:,list_numerical_features] = scaler.fit_transform(dfnew.loc[:,list_numerical_features])\n",
        "dfnew.loc[:,list_numerical_features].describe()\n",
        "X = dfnew.drop(['best_pic_win_yes'], axis=1)\n",
        "X.insert(0, 'bias', np.ones(X.shape[0]))\n",
        "#X = X.values\n",
        "y = dfnew['best_pic_win_yes']\n",
        "from sklearn.model_selection import train_test_split\n",
        "X_train, X_test, y_train, y_test = train_test_split(X,y,test_size=0.3,random_state=42)\n",
        "\n"
      ],
      "execution_count": 353,
      "outputs": []
    },
    {
      "cell_type": "markdown",
      "metadata": {
        "id": "LYQWcsdj9J_b"
      },
      "source": [
        "*15) Implement Logistic Regression to solve the classification problem. Show the accuracy for both the training and testing set.*"
      ]
    },
    {
      "cell_type": "code",
      "metadata": {
        "tags": [],
        "id": "3W2-kBPNv8kY",
        "outputId": "0c27e0c1-372a-428e-cde6-c3d5759cfacf",
        "colab": {
          "base_uri": "https://localhost:8080/",
          "height": 50
        }
      },
      "source": [
        "from sklearn.linear_model import LogisticRegression\n",
        "from sklearn.metrics import accuracy_score\n",
        "#train a logistic regression model\n",
        "logreg=LogisticRegression()\n",
        "logreg.fit(X_train,y_train)\n",
        "y_pred=logreg.predict(X_test)\n",
        "\n",
        "print(f'Training accuracy: {logreg.score(X_train,y_train)}')\n",
        "test_accuracy = logreg.score(X_test,y_test)\n",
        "print(f'Test accuracy: {test_accuracy}')"
      ],
      "execution_count": 354,
      "outputs": [
        {
          "output_type": "stream",
          "text": [
            "Training accuracy: 0.9956043956043956\n",
            "Test accuracy: 0.9743589743589743\n"
          ],
          "name": "stdout"
        }
      ]
    },
    {
      "cell_type": "markdown",
      "metadata": {
        "id": "kzYLNTE-9J_e"
      },
      "source": [
        "Now you will use the magnitudes of the learned weights to gain insight regarding which variables are more important for the prediction.\n",
        "\n",
        "*16a) First, access the learned parameters from the model you just trained and display them.*"
      ]
    },
    {
      "cell_type": "code",
      "metadata": {
        "tags": [],
        "id": "s6l4wNi69J_e",
        "outputId": "6a8ed2e1-8bd0-435a-d550-38145749d219",
        "colab": {
          "base_uri": "https://localhost:8080/",
          "height": 184
        }
      },
      "source": [
        "#your code here\n",
        "logreg.coef_"
      ],
      "execution_count": 355,
      "outputs": [
        {
          "output_type": "execute_result",
          "data": {
            "text/plain": [
              "array([[ 1.44720210e-05, -2.56476793e-01,  4.65150670e-01,\n",
              "         5.21042474e-01,  6.63302213e-01,  3.75118272e-01,\n",
              "         1.26552659e-01, -2.89519970e-03, -8.51445293e-03,\n",
              "        -1.55170455e-02,  6.07013901e-01, -1.09186393e-01,\n",
              "         2.75985125e-02, -1.41393657e-02, -1.86133999e-02,\n",
              "        -1.95979904e-01, -7.36521278e-02, -1.43098027e-02,\n",
              "        -3.61001777e-03,  5.14437993e-01, -1.89840011e-01,\n",
              "        -2.00373496e-01, -8.13280291e-02, -2.84566361e-01,\n",
              "        -1.03817988e-01,  8.17033888e-02, -1.18514757e-01,\n",
              "         5.09463694e-01,  1.28037971e+00, -9.55282124e-02]])"
            ]
          },
          "metadata": {
            "tags": []
          },
          "execution_count": 355
        }
      ]
    },
    {
      "cell_type": "markdown",
      "metadata": {
        "id": "dCvhGpEq9J_g"
      },
      "source": [
        "*16b) Knowing that we scaled our features and therefore parameters with higher magnitudes indicate more important features, visualize in a the parameter magnitude for each feature (for magnitude we use the absolute value of the parameter to make the comparison easier).*"
      ]
    },
    {
      "cell_type": "code",
      "metadata": {
        "id": "raCL7kbD9J_h",
        "outputId": "bf872f5e-2465-4021-dcd1-6456eca3c427",
        "colab": {
          "base_uri": "https://localhost:8080/",
          "height": 704
        }
      },
      "source": [
        "\n",
        "list_features = [label for label in X.columns]\n",
        "absolute_params = np.abs(logreg.coef_[0])\n",
        "plt.figure(figsize=(12,9))\n",
        "plt.bar(list_features,absolute_params)\n",
        "plt.xticks(rotation=90);\n",
        "plt.xlabel('Features');\n",
        "plt.ylabel('Model Parameters');\n",
        "plt.grid()"
      ],
      "execution_count": 356,
      "outputs": [
        {
          "output_type": "display_data",
          "data": {
            "image/png": "[encoded data removed]",
            "text/plain": [
              "<Figure size 864x648 with 1 Axes>"
            ]
          },
          "metadata": {
            "tags": [],
            "needs_background": "light"
          }
        }
      ]
    },
    {
      "cell_type": "markdown",
      "metadata": {
        "id": "MV9RSiTJ9J_j"
      },
      "source": [
        "*16c) Based on what you see in the above plot, which is the most important characteristic of a movie that could lead to winning an Oscar?*"
      ]
    },
    {
      "cell_type": "markdown",
      "metadata": {
        "id": "cIBNedfm9J_j"
      },
      "source": [
        "<span style=\"color:green\">\n",
        "The most important characteristic of a movie that  lead to winning an Oscar, is having a director who has already won an Oscar.\n",
        "</span>"
      ]
    }
  ]
}